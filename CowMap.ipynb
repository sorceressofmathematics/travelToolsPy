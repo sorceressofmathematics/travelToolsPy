{
 "cells": [
  {
   "cell_type": "code",
   "execution_count": 1,
   "metadata": {
    "collapsed": true
   },
   "outputs": [],
   "source": [
    "import googlemaps, pandas, json, requests"
   ]
  },
  {
   "cell_type": "code",
   "execution_count": 2,
   "metadata": {
    "collapsed": true
   },
   "outputs": [],
   "source": [
    "##Having something like this would be ideal. (for later)\n",
    "#origin = input(\"Where are you starting?\")\n",
    "#destination = input(\"Where do you want to finish?\")\n",
    "#waypoints = input(\"Where would you like to pass through?\")\n",
    "#deviation = input(\"What distance from your current route is acceptable in metres?\")"
   ]
  },
  {
   "cell_type": "code",
   "execution_count": 3,
   "metadata": {
    "collapsed": false
   },
   "outputs": [],
   "source": [
    "data=pandas.read_excel('FarmData.xlsx')"
   ]
  },
  {
   "cell_type": "code",
   "execution_count": 4,
   "metadata": {
    "collapsed": false
   },
   "outputs": [],
   "source": [
    "data[\"Address1\"] = data[\"Address\"]+\", \"+data[\"City\"]+\", \"+data[\"State\"]"
   ]
  },
  {
   "cell_type": "code",
   "execution_count": 9,
   "metadata": {
    "collapsed": false
   },
   "outputs": [],
   "source": [
    "latt = []\n",
    "longg = []\n",
    "addresss = []\n",
    "\n",
    "for item in data['Address1']:\n",
    "    GOOGLE_MAPS_API_URL = 'https://maps.googleapis.com/maps/api/geocode/json'\n",
    "\n",
    "    params = { \n",
    "        'address': item,\n",
    "        'sensor': 'false'\n",
    "    }\n",
    "    # Do the request and get the response data\n",
    "    req = requests.get(GOOGLE_MAPS_API_URL, params=params)\n",
    "    res = req.json()\n",
    "    \n",
    "    if (res['status'] != 'ZERO_RESULTS' and res['status'] != []):\n",
    "        # Use the first result\n",
    "        result = res['results'][0]\n",
    "        \n",
    "        latt.append(result['geometry']['location']['lat'])\n",
    "        longg.append(result['geometry']['location']['lng'])\n",
    "        addresss.append(result['formatted_address'])\n",
    "        \n",
    "    else:\n",
    "        latt.append(None)\n",
    "        longg.append(None)\n",
    "        addresss.append(None)"
   ]
  },
  {
   "cell_type": "code",
   "execution_count": 18,
   "metadata": {
    "collapsed": false
   },
   "outputs": [],
   "source": [
    "data['lat'] = latt\n",
    "data['lng'] = longg\n",
    "data['address_formatted'] = addresss"
   ]
  },
  {
   "cell_type": "code",
   "execution_count": 786,
   "metadata": {
    "collapsed": false
   },
   "outputs": [],
   "source": [
    "dist_main_ = []\n",
    "\n",
    "GOOGLE_MAPS_API_URL = 'http://maps.googleapis.com/maps/api/directions/json'\n",
    "\n",
    "params = {\n",
    "    'units' : 'metric',\n",
    "    'origin' : 'Brisbane, Queensland',\n",
    "    'waypoints': \"Beaudesert, Queensland 4285|Capella, Queensland 4723|Blackall, Queensland 4472|Roma, Queensland 4455|\",\n",
    "    'destination' : 'Brisbane, Queensland',\n",
    "    'optimizeWaypoints' : True,\n",
    "}\n",
    "\n",
    "# Do the request and get the response data\n",
    "req = requests.get(GOOGLE_MAPS_API_URL, params=params)\n",
    "res = req.json()\n",
    "\n",
    "dist_main_ = [res['routes'][0]['legs'][i]['distance']['value'] for i in range(len(res['routes'][0]['legs']))]\n",
    "dist_main = sum(dist_main_)"
   ]
  },
  {
   "cell_type": "code",
   "execution_count": 22,
   "metadata": {
    "collapsed": false,
    "scrolled": true
   },
   "outputs": [],
   "source": [
    "dist_dev_fin = []\n",
    "\n",
    "for lt, lg in zip(data['lat'], data['lng']):\n",
    "    if lt != None:\n",
    "        GOOGLE_MAPS_API_URL = 'http://maps.googleapis.com/maps/api/directions/json'\n",
    "\n",
    "        params = {\n",
    "            'units' : 'metric',\n",
    "            'origin' : 'Brisbane, Queensland',\n",
    "            'waypoints': \"Beaudesert, Queensland 4285|Capella, Queensland 4723|Blackall, Queensland 4472|Roma, Queensland 4455|\"+str(lt)+','+str(lg),\n",
    "            'destination' : 'Brisbane, Queensland',\n",
    "            'optimizeWaypoints' : True,\n",
    "        }\n",
    "\n",
    "        # Do the request and get the response data\n",
    "        req = requests.get(GOOGLE_MAPS_API_URL, params=params)\n",
    "        res = req.json()\n",
    "        dist_dev_ = []\n",
    "        \n",
    "        if res['routes'] != []:\n",
    "            dist_dev_ = [res['routes'][0]['legs'][i]['distance']['value'] for i in range(len(res['routes'][0]['legs']))]           \n",
    "            dist_dev = sum(dist_dev_)    \n",
    "            \n",
    "            if dist_dev != 0:\n",
    "                dist_dev_fin.append(dist_dev - dist_main)\n",
    "            else: \n",
    "                dist_dev_fin.append(None)\n",
    "        else:\n",
    "            dist_dev_fin.append(None)\n",
    "    \n",
    "         \n",
    "    \n",
    "    else:\n",
    "        dist_dev_vin.append(None)\n",
    "    "
   ]
  },
  {
   "cell_type": "code",
   "execution_count": 24,
   "metadata": {
    "collapsed": true
   },
   "outputs": [],
   "source": [
    "data['deviation'] = dist_dev_fin"
   ]
  },
  {
   "cell_type": "code",
   "execution_count": 146,
   "metadata": {
    "collapsed": true
   },
   "outputs": [],
   "source": [
    "df = pandas.DataFrame(columns = list(data.keys()))\n",
    "df1 = data"
   ]
  },
  {
   "cell_type": "code",
   "execution_count": 169,
   "metadata": {
    "collapsed": false
   },
   "outputs": [],
   "source": [
    "df = df1.drop(df1[(df1.deviation > 50000)].index)"
   ]
  },
  {
   "cell_type": "code",
   "execution_count": 170,
   "metadata": {
    "collapsed": false
   },
   "outputs": [],
   "source": [
    "df = df.set_index('deviation')"
   ]
  },
  {
   "cell_type": "code",
   "execution_count": 171,
   "metadata": {
    "collapsed": false
   },
   "outputs": [],
   "source": [
    "df = df.drop([None])"
   ]
  },
  {
   "cell_type": "code",
   "execution_count": 168,
   "metadata": {
    "collapsed": true
   },
   "outputs": [],
   "source": [
    "Excel = pandas.ExcelWriter('FarmsOnRouteUnder50Km.xlsx', engine='xlsxwriter')\n",
    "df.to_excel(Excel, sheet_name='Sheet1')\n",
    "Excel.save()"
   ]
  }
 ],
 "metadata": {
  "kernelspec": {
   "display_name": "Python 3",
   "language": "python",
   "name": "python3"
  },
  "language_info": {
   "codemirror_mode": {
    "name": "ipython",
    "version": 3
   },
   "file_extension": ".py",
   "mimetype": "text/x-python",
   "name": "python",
   "nbconvert_exporter": "python",
   "pygments_lexer": "ipython3",
   "version": "3.6.2"
  }
 },
 "nbformat": 4,
 "nbformat_minor": 2
}
